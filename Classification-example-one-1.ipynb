{
 "cells": [
  {
   "cell_type": "markdown",
   "id": "63b61181",
   "metadata": {},
   "source": [
    "IMPORT"
   ]
  },
  {
   "cell_type": "code",
   "execution_count": 1,
   "id": "836f4e8f",
   "metadata": {},
   "outputs": [],
   "source": [
    "import pandas as pd\n",
    "import os"
   ]
  },
  {
   "cell_type": "markdown",
   "id": "74888083",
   "metadata": {},
   "source": [
    "EXAMPLE DATASET"
   ]
  },
  {
   "cell_type": "code",
   "execution_count": 2,
   "id": "f4bb2746",
   "metadata": {},
   "outputs": [],
   "source": [
    "dataset = pd.read_csv(r'C:\\Users\\yhcel\\Desktop\\code\\anaconda-navigator\\csv-files\\breast-cancer.csv')"
   ]
  },
  {
   "cell_type": "code",
   "execution_count": 3,
   "id": "22c2249f",
   "metadata": {},
   "outputs": [
    {
     "data": {
      "text/plain": [
       "(569, 31)"
      ]
     },
     "execution_count": 3,
     "metadata": {},
     "output_type": "execute_result"
    }
   ],
   "source": [
    "dataset.shape"
   ]
  },
  {
   "cell_type": "code",
   "execution_count": 4,
   "id": "525bb1ca",
   "metadata": {},
   "outputs": [
    {
     "name": "stdout",
     "output_type": "stream",
     "text": [
      "  diagnosis  radius_mean  texture_mean  perimeter_mean  area_mean  \\\n",
      "0         M     1.097064     -2.073335        1.269934   0.984375   \n",
      "1         M     1.829821     -0.353632        1.685955   1.908708   \n",
      "2         M     1.579888      0.456187        1.566503   1.558884   \n",
      "3         M    -0.768909      0.253732       -0.592687  -0.764464   \n",
      "4         M     1.750297     -1.151816        1.776573   1.826229   \n",
      "\n",
      "   smoothness_mean  compactness_mean  concavity_mean  concave points_mean  \\\n",
      "0         1.568466          3.283515        2.652874             2.532475   \n",
      "1        -0.826962         -0.487072       -0.023846             0.548144   \n",
      "2         0.942210          1.052926        1.363478             2.037231   \n",
      "3         3.283553          3.402909        1.915897             1.451707   \n",
      "4         0.280372          0.539340        1.371011             1.428493   \n",
      "\n",
      "   symmetry_mean  ...  radius_worst  texture_worst  perimeter_worst  \\\n",
      "0       2.217515  ...      1.886690      -1.359293         2.303601   \n",
      "1       0.001392  ...      1.805927      -0.369203         1.535126   \n",
      "2       0.939685  ...      1.511870      -0.023974         1.347475   \n",
      "3       2.867383  ...     -0.281464       0.133984        -0.249939   \n",
      "4      -0.009560  ...      1.298575      -1.466770         1.338539   \n",
      "\n",
      "   area_worst  smoothness_worst  compactness_worst  concavity_worst  \\\n",
      "0    2.001237          1.307686           2.616665         2.109526   \n",
      "1    1.890489         -0.375612          -0.430444        -0.146749   \n",
      "2    1.456285          0.527407           1.082932         0.854974   \n",
      "3   -0.550021          3.394275           3.893397         1.989588   \n",
      "4    1.220724          0.220556          -0.313395         0.613179   \n",
      "\n",
      "   concave points_worst  symmetry_worst  fractal_dimension_worst  \n",
      "0              2.296076        2.750622                 1.937015  \n",
      "1              1.087084       -0.243890                 0.281190  \n",
      "2              1.955000        1.152255                 0.201391  \n",
      "3              2.175786        6.046041                 4.935010  \n",
      "4              0.729259       -0.868353                -0.397100  \n",
      "\n",
      "[5 rows x 31 columns]\n"
     ]
    }
   ],
   "source": [
    "print(dataset.head())"
   ]
  },
  {
   "cell_type": "markdown",
   "id": "0fb5797a",
   "metadata": {},
   "source": [
    "LABEL ENCODING"
   ]
  },
  {
   "cell_type": "code",
   "execution_count": 5,
   "id": "3f46e381",
   "metadata": {},
   "outputs": [],
   "source": [
    "from sklearn.preprocessing import LabelEncoder"
   ]
  },
  {
   "cell_type": "code",
   "execution_count": 6,
   "id": "4cfb4c70",
   "metadata": {},
   "outputs": [],
   "source": [
    "labelencoder = LabelEncoder()"
   ]
  },
  {
   "cell_type": "code",
   "execution_count": 7,
   "id": "c7a4e3fc",
   "metadata": {},
   "outputs": [],
   "source": [
    "dataset['diagnosis'] = labelencoder.fit_transform(dataset['diagnosis'].values)"
   ]
  },
  {
   "cell_type": "markdown",
   "id": "d8082096",
   "metadata": {},
   "source": [
    "TRAIN TEST SPLIT"
   ]
  },
  {
   "cell_type": "code",
   "execution_count": 8,
   "id": "5fb9430d",
   "metadata": {},
   "outputs": [],
   "source": [
    "from sklearn.model_selection import train_test_split"
   ]
  },
  {
   "cell_type": "code",
   "execution_count": 9,
   "id": "2c5d8f38",
   "metadata": {},
   "outputs": [],
   "source": [
    "train, test = train_test_split(dataset, test_size = 0.3)"
   ]
  },
  {
   "cell_type": "code",
   "execution_count": 10,
   "id": "c8247870",
   "metadata": {},
   "outputs": [],
   "source": [
    "x_train = train.drop('diagnosis', axis=1)\n",
    "y_train = train.loc[:, 'diagnosis']"
   ]
  },
  {
   "cell_type": "code",
   "execution_count": 11,
   "id": "b829a294",
   "metadata": {},
   "outputs": [],
   "source": [
    "x_test = test.drop('diagnosis', axis=1)\n",
    "y_test = test.loc[:, 'diagnosis']"
   ]
  },
  {
   "cell_type": "markdown",
   "id": "e5f83cb8",
   "metadata": {},
   "source": [
    "LOGISTIC REGRESSION"
   ]
  },
  {
   "cell_type": "code",
   "execution_count": 12,
   "id": "7d32b400",
   "metadata": {},
   "outputs": [],
   "source": [
    "from sklearn.linear_model import LogisticRegression"
   ]
  },
  {
   "cell_type": "code",
   "execution_count": 13,
   "id": "3da2b50b",
   "metadata": {},
   "outputs": [],
   "source": [
    "model = LogisticRegression()"
   ]
  },
  {
   "cell_type": "code",
   "execution_count": 14,
   "id": "61c6d622",
   "metadata": {},
   "outputs": [
    {
     "name": "stdout",
     "output_type": "stream",
     "text": [
      "LogisticRegression()\n"
     ]
    }
   ],
   "source": [
    "print(model.fit(x_train, y_train))"
   ]
  },
  {
   "cell_type": "code",
   "execution_count": 15,
   "id": "88a9c832",
   "metadata": {},
   "outputs": [
    {
     "name": "stdout",
     "output_type": "stream",
     "text": [
      "[0 0 0 0 1 1 1 0 0 0 1 1 0 0 0 0 1 0 0 1 1 0 0 1 1 1 0 1 0 1 1 0 1 0 0 0 1\n",
      " 1 0 1 0 1 0 0 0 1 1 0 0 1 0 0 0 1 1 0 0 1 0 1 1 1 0 0 0 0 1 0 1 1 1 0 1 1\n",
      " 0 0 0 0 0 0 0 1 1 0 1 0 1 0 1 0 1 0 1 0 1 0 0 0 0 0 0 0 0 0 0 0 0 0 0 0 1\n",
      " 1 0 1 0 0 0 1 0 0 1 1 0 1 0 1 0 0 1 1 0 0 1 0 0 1 1 0 0 1 0 1 1 0 0 0 0 1\n",
      " 1 1 0 0 1 0 0 1 0 0 0 0 1 1 0 0 0 1 1 1 0 0 0]\n"
     ]
    }
   ],
   "source": [
    "predictions = model.predict(x_test)\n",
    "print(predictions)"
   ]
  },
  {
   "cell_type": "markdown",
   "id": "e6340c70",
   "metadata": {},
   "source": [
    "CONFUSION MATRIX"
   ]
  },
  {
   "cell_type": "code",
   "execution_count": 16,
   "id": "539d95a1",
   "metadata": {},
   "outputs": [],
   "source": [
    "from sklearn.metrics import confusion_matrix"
   ]
  },
  {
   "cell_type": "code",
   "execution_count": 17,
   "id": "7e6a41e4",
   "metadata": {},
   "outputs": [
    {
     "data": {
      "text/plain": [
       "array([[103,   0],\n",
       "       [  0,  68]], dtype=int64)"
      ]
     },
     "execution_count": 17,
     "metadata": {},
     "output_type": "execute_result"
    }
   ],
   "source": [
    "confusion_matrix(y_test, predictions)"
   ]
  },
  {
   "cell_type": "markdown",
   "id": "ea637a6d",
   "metadata": {},
   "source": [
    "103 = True Negative , 0 = False Positive , 0 = False Negative , 68 = True Positive "
   ]
  },
  {
   "cell_type": "markdown",
   "id": "a02fb150",
   "metadata": {},
   "source": [
    "CLASSIFICATION REPORT"
   ]
  },
  {
   "cell_type": "code",
   "execution_count": 18,
   "id": "590176e8",
   "metadata": {},
   "outputs": [],
   "source": [
    "from sklearn.metrics import classification_report"
   ]
  },
  {
   "cell_type": "code",
   "execution_count": 19,
   "id": "c3285361",
   "metadata": {},
   "outputs": [
    {
     "name": "stdout",
     "output_type": "stream",
     "text": [
      "              precision    recall  f1-score   support\n",
      "\n",
      "           0       1.00      1.00      1.00       103\n",
      "           1       1.00      1.00      1.00        68\n",
      "\n",
      "    accuracy                           1.00       171\n",
      "   macro avg       1.00      1.00      1.00       171\n",
      "weighted avg       1.00      1.00      1.00       171\n",
      "\n"
     ]
    }
   ],
   "source": [
    "print(classification_report(y_test, predictions)) "
   ]
  },
  {
   "cell_type": "markdown",
   "id": "fc0a1a34",
   "metadata": {},
   "source": [
    "A support vector machine (SVM) is a type of supervised learning algorithm used in machine learning to solve classification and regression tasks; SVMs are particularly good at solving binary classification problems, which require classifying the elements of a data set into two groups.\n"
   ]
  },
  {
   "cell_type": "markdown",
   "id": "810e0ea9",
   "metadata": {},
   "source": [
    "Hyper-Space is used for more than 3 features when making classifications."
   ]
  },
  {
   "cell_type": "markdown",
   "id": "01db37db",
   "metadata": {},
   "source": [
    "If hyper-planes are \"linear\" we use \"linear kernel\"\n",
    "If hyper-planes are \"non-linear\" we use \"polynomal kernel\""
   ]
  },
  {
   "cell_type": "markdown",
   "id": "d3151793",
   "metadata": {},
   "source": [
    "LINEAR SVC"
   ]
  },
  {
   "cell_type": "code",
   "execution_count": 20,
   "id": "3abd8d27",
   "metadata": {},
   "outputs": [],
   "source": [
    "from sklearn.svm import LinearSVC"
   ]
  },
  {
   "cell_type": "code",
   "execution_count": 21,
   "id": "f97a347b",
   "metadata": {},
   "outputs": [],
   "source": [
    "model_2 = LinearSVC()"
   ]
  },
  {
   "cell_type": "code",
   "execution_count": 23,
   "id": "bc72efea",
   "metadata": {},
   "outputs": [
    {
     "name": "stdout",
     "output_type": "stream",
     "text": [
      "LinearSVC()\n"
     ]
    },
    {
     "name": "stderr",
     "output_type": "stream",
     "text": [
      "C:\\Users\\yhcel\\anaconda3\\Lib\\site-packages\\sklearn\\svm\\_classes.py:32: FutureWarning: The default value of `dual` will change from `True` to `'auto'` in 1.5. Set the value of `dual` explicitly to suppress the warning.\n",
      "  warnings.warn(\n"
     ]
    }
   ],
   "source": [
    "print(model_2.fit(x_train, y_train))"
   ]
  },
  {
   "cell_type": "code",
   "execution_count": 25,
   "id": "335d89f2",
   "metadata": {},
   "outputs": [],
   "source": [
    "predictions_2 = model_2.predict(x_test)"
   ]
  },
  {
   "cell_type": "code",
   "execution_count": 26,
   "id": "151e03dc",
   "metadata": {},
   "outputs": [
    {
     "name": "stdout",
     "output_type": "stream",
     "text": [
      "[0 0 0 0 1 1 1 0 0 0 1 1 0 0 0 0 1 0 0 1 1 0 0 1 1 1 0 1 0 1 1 0 1 0 0 0 1\n",
      " 1 0 1 0 1 0 0 0 1 1 0 0 1 0 0 0 1 1 0 0 1 0 1 1 1 0 0 0 0 1 0 1 1 1 0 1 1\n",
      " 0 0 0 0 0 0 0 1 1 0 1 0 1 0 1 0 1 1 1 0 1 0 0 0 0 0 0 0 0 0 0 0 0 0 0 0 1\n",
      " 1 0 1 0 0 0 1 0 0 1 1 0 1 0 1 0 0 1 1 0 0 1 0 0 1 1 0 0 1 1 1 1 0 0 0 0 1\n",
      " 1 1 0 0 0 0 0 1 0 0 0 0 1 1 0 0 0 1 1 1 0 0 0]\n"
     ]
    }
   ],
   "source": [
    "print(predictions_2)"
   ]
  },
  {
   "cell_type": "code",
   "execution_count": 27,
   "id": "535066b6",
   "metadata": {},
   "outputs": [
    {
     "data": {
      "text/plain": [
       "array([[101,   2],\n",
       "       [  1,  67]], dtype=int64)"
      ]
     },
     "execution_count": 27,
     "metadata": {},
     "output_type": "execute_result"
    }
   ],
   "source": [
    "confusion_matrix(y_test, predictions_2)"
   ]
  },
  {
   "cell_type": "code",
   "execution_count": 28,
   "id": "c22eccda",
   "metadata": {},
   "outputs": [
    {
     "name": "stdout",
     "output_type": "stream",
     "text": [
      "              precision    recall  f1-score   support\n",
      "\n",
      "           0       0.99      0.98      0.99       103\n",
      "           1       0.97      0.99      0.98        68\n",
      "\n",
      "    accuracy                           0.98       171\n",
      "   macro avg       0.98      0.98      0.98       171\n",
      "weighted avg       0.98      0.98      0.98       171\n",
      "\n"
     ]
    }
   ],
   "source": [
    "print(classification_report(y_test, predictions_2))"
   ]
  },
  {
   "cell_type": "code",
   "execution_count": null,
   "id": "c688211c",
   "metadata": {},
   "outputs": [],
   "source": []
  }
 ],
 "metadata": {
  "kernelspec": {
   "display_name": "Python 3 (ipykernel)",
   "language": "python",
   "name": "python3"
  },
  "language_info": {
   "codemirror_mode": {
    "name": "ipython",
    "version": 3
   },
   "file_extension": ".py",
   "mimetype": "text/x-python",
   "name": "python",
   "nbconvert_exporter": "python",
   "pygments_lexer": "ipython3",
   "version": "3.11.4"
  }
 },
 "nbformat": 4,
 "nbformat_minor": 5
}
